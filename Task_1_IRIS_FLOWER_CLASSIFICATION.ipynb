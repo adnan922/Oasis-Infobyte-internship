{
  "nbformat": 4,
  "nbformat_minor": 0,
  "metadata": {
    "colab": {
      "provenance": []
    },
    "kernelspec": {
      "name": "python3",
      "display_name": "Python 3"
    },
    "language_info": {
      "name": "python"
    }
  },
  "cells": [
    {
      "cell_type": "markdown",
      "source": [
        "## Importing libraries"
      ],
      "metadata": {
        "id": "QNkj6k_c32oy"
      }
    },
    {
      "cell_type": "code",
      "execution_count": 1,
      "metadata": {
        "id": "TSBxiQ5g263W"
      },
      "outputs": [],
      "source": [
        "import numpy as np\n",
        "import matplotlib.pyplot as plt\n",
        "import pandas as pd\n",
        "import seaborn as sn"
      ]
    },
    {
      "cell_type": "markdown",
      "source": [
        "## Importing the dataset"
      ],
      "metadata": {
        "id": "T6F8cSnA4P22"
      }
    },
    {
      "cell_type": "code",
      "source": [
        "df=pd.read_csv('Iris.csv')"
      ],
      "metadata": {
        "id": "EN9MQCzl4I2y"
      },
      "execution_count": 2,
      "outputs": []
    },
    {
      "cell_type": "code",
      "source": [
        "df.describe()"
      ],
      "metadata": {
        "id": "Fy3aXoGy4u1C"
      },
      "execution_count": null,
      "outputs": []
    },
    {
      "cell_type": "markdown",
      "source": [
        "##Label Encoder"
      ],
      "metadata": {
        "id": "EAB38lF3vU4j"
      }
    },
    {
      "cell_type": "code",
      "source": [
        "from sklearn.preprocessing import LabelEncoder\n",
        "le = LabelEncoder()\n",
        "df['Species'] = le.fit_transform(df['Species'])\n",
        "df.head()"
      ],
      "metadata": {
        "id": "e_f2ovZ6Lje1"
      },
      "execution_count": null,
      "outputs": []
    },
    {
      "cell_type": "code",
      "source": [
        "print(df[\"Species\"])"
      ],
      "metadata": {
        "id": "GLoeZKZWMIX8"
      },
      "execution_count": null,
      "outputs": []
    },
    {
      "cell_type": "markdown",
      "source": [
        "##Spliting data into Features and Target variable"
      ],
      "metadata": {
        "id": "8Nna6_1-xxjY"
      }
    },
    {
      "cell_type": "code",
      "source": [
        "X= df.iloc[:,:-1].values\n",
        "y= df.iloc[:,-1].values"
      ],
      "metadata": {
        "id": "6eKeDRif4-XF"
      },
      "execution_count": 4,
      "outputs": []
    },
    {
      "cell_type": "code",
      "source": [
        "print(X)"
      ],
      "metadata": {
        "id": "Kp6dafOfsguy"
      },
      "execution_count": null,
      "outputs": []
    },
    {
      "cell_type": "code",
      "source": [
        "print(y)"
      ],
      "metadata": {
        "id": "w41kPn0CskVv"
      },
      "execution_count": null,
      "outputs": []
    },
    {
      "cell_type": "markdown",
      "source": [
        "##Data Visualization"
      ],
      "metadata": {
        "id": "C4SOoWZkxvBM"
      }
    },
    {
      "cell_type": "code",
      "source": [
        "sn.pairplot(df,hue=\"Species\")"
      ],
      "metadata": {
        "id": "DWPGmn9Huhyi"
      },
      "execution_count": null,
      "outputs": []
    },
    {
      "cell_type": "markdown",
      "source": [
        "## Spliting the DataFrame in Train and Test set"
      ],
      "metadata": {
        "id": "JZdyh0gQ5GPF"
      }
    },
    {
      "cell_type": "code",
      "source": [
        "from sklearn.model_selection import train_test_split\n",
        "X_train, X_test, y_train, y_test = train_test_split(X, y, test_size = 30, random_state =42)"
      ],
      "metadata": {
        "id": "7exvqWYM5FZ8"
      },
      "execution_count": 8,
      "outputs": []
    },
    {
      "cell_type": "markdown",
      "source": [
        "##Traning the model using Logistic Regression"
      ],
      "metadata": {
        "id": "p9vKIfkT9Hvf"
      }
    },
    {
      "cell_type": "code",
      "source": [
        "from sklearn.linear_model import LogisticRegression\n",
        "model= LogisticRegression()\n",
        "model.fit(X_train, y_train)"
      ],
      "metadata": {
        "id": "EMQq29su7xxt"
      },
      "execution_count": null,
      "outputs": []
    },
    {
      "cell_type": "markdown",
      "source": [
        "##Predicting the Model on Test set"
      ],
      "metadata": {
        "id": "9KRn2SkWyN4v"
      }
    },
    {
      "cell_type": "code",
      "source": [
        "pred= model.predict(X_test)\n",
        "print(np.concatenate((pred.reshape(len(pred),1), y_test.reshape(len(y_test),1)),1))"
      ],
      "metadata": {
        "id": "1iWITvGm99Wv"
      },
      "execution_count": null,
      "outputs": []
    },
    {
      "cell_type": "markdown",
      "source": [
        "##Confusion Matrix and Accuracy Score"
      ],
      "metadata": {
        "id": "dX1apdm-AY_q"
      }
    },
    {
      "cell_type": "code",
      "source": [
        "from sklearn.metrics import confusion_matrix, accuracy_score\n",
        "cm= confusion_matrix(y_test, pred)\n",
        "print(cm)\n",
        "accuracy_score(y_test, pred)"
      ],
      "metadata": {
        "colab": {
          "base_uri": "https://localhost:8080/"
        },
        "id": "hT4m7R1zAjL9",
        "outputId": "9185b6cf-d154-4b6e-c9ae-e9f4427339b6"
      },
      "execution_count": 12,
      "outputs": [
        {
          "output_type": "stream",
          "name": "stdout",
          "text": [
            "[[10  0  0]\n",
            " [ 0  9  0]\n",
            " [ 0  0 11]]\n"
          ]
        },
        {
          "output_type": "execute_result",
          "data": {
            "text/plain": [
              "1.0"
            ]
          },
          "metadata": {},
          "execution_count": 12
        }
      ]
    },
    {
      "cell_type": "markdown",
      "source": [
        "##Predicting on a Single flower"
      ],
      "metadata": {
        "id": "I5J2CeooxIoW"
      }
    },
    {
      "cell_type": "code",
      "source": [
        "print(model.predict([[100,5.7,2.8,4.1,1.3]]))"
      ],
      "metadata": {
        "colab": {
          "base_uri": "https://localhost:8080/"
        },
        "id": "rCOY8Ucawjny",
        "outputId": "76030771-a918-4bf9-decc-2c246729ecae"
      },
      "execution_count": 14,
      "outputs": [
        {
          "output_type": "stream",
          "name": "stdout",
          "text": [
            "[1]\n"
          ]
        }
      ]
    },
    {
      "cell_type": "markdown",
      "source": [
        "##Summary"
      ],
      "metadata": {
        "id": "ZopXhtAs0Mdn"
      }
    },
    {
      "cell_type": "markdown",
      "source": [
        "**An Iris flower classification model was developed using a dataset retrieved from 'Iris.csv', consisting of features related to sepal and petal dimensions (Sepal Length, Sepal Width, Petal Length, and Petal Width) along with the species label ('Species'). The dataset was preprocessed by encoding the categorical species labels using LabelEncoder. A pair plot was created using Seaborn to visualize the relationships between features, distinguished by species. The dataset was split into training and testing sets using a 30-sample test size and a random state of 42. A Logistic Regression model was employed to classify the Iris species based on the provided features. The model was trained on the training data and then used to predict the species labels for the test set. The predictions were compared with the actual test labels using a confusion matrix and evaluated for accuracy, yielding the accuracy score. Lastly, a prediction was made for a new set of feature values ([100, 5.7, 2.8, 4.1, 1.3]) to determine the probable species of an Iris flower based on the trained Logistic Regression model.**"
      ],
      "metadata": {
        "id": "8ooCVXhp0P6c"
      }
    }
  ]
}